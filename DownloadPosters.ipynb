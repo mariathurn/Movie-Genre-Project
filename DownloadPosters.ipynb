{
 "cells": [
  {
   "cell_type": "markdown",
   "id": "418a5fde",
   "metadata": {},
   "source": [
    "# Script to download Posters\n"
   ]
  },
  {
   "cell_type": "code",
   "execution_count": null,
   "id": "c3697021",
   "metadata": {},
   "outputs": [],
   "source": [
    "import os\n",
    "import requests\n",
    "import pandas as pd\n",
    "from tqdm import tqdm\n",
    "from PIL import Image\n",
    "from io import BytesIO\n",
    "\n",
    "# 🔹 Replace with your actual TMDb API key\n",
    "TMDB_API_KEY = \"123\"\n",
    "\n",
    "# 🔹 Read the movie dataset (ensure it contains a 'title' column)\n",
    "data = pd.read_csv(\"tmdb_5000_movies.csv\")\n",
    "\n",
    "# 🔹 Directory to save posters\n",
    "POSTER_DIR = \"posters\"\n",
    "os.makedirs(POSTER_DIR, exist_ok=True)\n",
    "\n",
    "# 🔹 Function to get the poster URL from TMDb\n",
    "def get_poster_url(movie_title):\n",
    "    url = f\"https://api.themoviedb.org/3/search/movie?api_key={TMDB_API_KEY}&query={movie_title}\"\n",
    "    response = requests.get(url).json()\n",
    "    \n",
    "    if response[\"results\"]:\n",
    "        poster_path = response[\"results\"][0].get(\"poster_path\", None)\n",
    "        if poster_path:\n",
    "            return f\"https://image.tmdb.org/t/p/w500{poster_path}\"  # w500 = medium resolution\n",
    "    return None  # No poster found\n",
    "\n",
    "# 🔹 Function to download and save the poster\n",
    "def download_poster(movie_id, movie_title):\n",
    "    poster_url = get_poster_url(movie_title)\n",
    "    if poster_url:\n",
    "        response = requests.get(poster_url)\n",
    "        image = Image.open(BytesIO(response.content))\n",
    "        image_path = os.path.join(POSTER_DIR, f\"{movie_id}.jpg\")  # Save as movie_id.jpg\n",
    "        image.save(image_path)\n",
    "        return True\n",
    "    return False\n",
    "\n",
    "# 🔹 Loop through the dataset and download posters\n",
    "for _, row in tqdm(data.iterrows(), total=len(data)):\n",
    "    movie_id, title = row[\"id\"], row[\"title\"]\n",
    "    success = download_poster(movie_id, title)\n",
    "    if success:\n",
    "        print(f\"✅ Downloaded: {title}\")\n",
    "    else:\n",
    "        print(f\"❌ No poster found: {title}\")\n",
    "\n",
    "print(\"🎬 All posters downloaded successfully!\")"
   ]
  }
 ],
 "metadata": {
  "language_info": {
   "name": "python"
  }
 },
 "nbformat": 4,
 "nbformat_minor": 5
}
